{
 "cells": [
  {
   "cell_type": "code",
   "execution_count": 4,
   "metadata": {},
   "outputs": [],
   "source": [
    "import os\n",
    "from dotenv import load_dotenv"
   ]
  },
  {
   "cell_type": "code",
   "execution_count": 5,
   "metadata": {},
   "outputs": [],
   "source": [
    "load_dotenv()\n",
    "api_key = os.environ.get(\"OPENAI_API_KEY\")\n",
    "\n",
    "if not api_key:\n",
    "    raise ValueError(\"OPENAI_API_KEY environment variable not set.\")\n"
   ]
  },
  {
   "cell_type": "code",
   "execution_count": 1,
   "metadata": {},
   "outputs": [
    {
     "name": "stdout",
     "output_type": "stream",
     "text": [
      "\n",
      "\u001b[1m[\u001b[0m\u001b[34;49mnotice\u001b[0m\u001b[1;39;49m]\u001b[0m\u001b[39;49m A new release of pip is available: \u001b[0m\u001b[31;49m25.0.1\u001b[0m\u001b[39;49m -> \u001b[0m\u001b[32;49m25.1\u001b[0m\n",
      "\u001b[1m[\u001b[0m\u001b[34;49mnotice\u001b[0m\u001b[1;39;49m]\u001b[0m\u001b[39;49m To update, run: \u001b[0m\u001b[32;49mpip3 install --upgrade pip\u001b[0m\n",
      "Note: you may need to restart the kernel to use updated packages.\n"
     ]
    }
   ],
   "source": [
    "%pip install openai-agents python-dotenv -qU"
   ]
  },
  {
   "cell_type": "markdown",
   "metadata": {},
   "source": [
    "# Basic Agent Creation"
   ]
  },
  {
   "cell_type": "code",
   "execution_count": 7,
   "metadata": {},
   "outputs": [
    {
     "data": {
      "text/plain": [
       "\"I'm here and ready to help! How about you?\""
      ]
     },
     "execution_count": 7,
     "metadata": {},
     "output_type": "execute_result"
    }
   ],
   "source": [
    "# Agent creation \n",
    "from agents import Agent, Runner\n",
    "\n",
    "agent = Agent(\n",
    "    name=\"Basic Agent\",\n",
    "    instructions = \"You are a helpful assistant.\",\n",
    "    model=\"gpt-4o-mini\"\n",
    ")\n",
    "\n",
    "result = await Runner.run(agent, 'Hi, How are you?')\n",
    "result.final_output"
   ]
  },
  {
   "cell_type": "code",
   "execution_count": 11,
   "metadata": {},
   "outputs": [
    {
     "data": {
      "text/plain": [
       "\"Why don't skeletons fight each other? \\n\\nThey don't have the guts!\""
      ]
     },
     "execution_count": 11,
     "metadata": {},
     "output_type": "execute_result"
    }
   ],
   "source": [
    "# Agent 2 example \n",
    "\n",
    "joke_agent = Agent(\n",
    "    name = \"Joke Agent\",\n",
    "    instructions = \"You are a funny assistant. Your jobs is to tell a funny joke.\",\n",
    "    model = \"gpt-4o-mini\"\n",
    ")\n",
    "\n",
    "joke_agent_result = await Runner.run(joke_agent, 'Tell me a joke')\n",
    "joke_agent_result.final_output"
   ]
  },
  {
   "cell_type": "code",
   "execution_count": 15,
   "metadata": {},
   "outputs": [
    {
     "name": "stdout",
     "output_type": "stream",
     "text": [
      "ہڈیاں ایک دوسرے سے کیوں نہیں لڑتیں؟\n",
      "\n",
      "کیونکہ ان میں حوصلہ نہیں ہوتا!\n"
     ]
    }
   ],
   "source": [
    "# Agent 3 example\n",
    "\n",
    "language_translator_agent = Agent(\n",
    "    name = \"Language Translator Agent\",\n",
    "    instructions = \"You are a translator. Your job is to translate given text into urdu.\",\n",
    "    model = \"gpt-4o-mini\"\n",
    ")\n",
    "\n",
    "language_translator_agent_result = await Runner.run(language_translator_agent, f\"translate this joke: {joke_agent_result.final_output} into urdu\")\n",
    "print(language_translator_agent_result.final_output)"
   ]
  },
  {
   "cell_type": "markdown",
   "metadata": {},
   "source": [
    "# Structured output using Pydantic"
   ]
  },
  {
   "cell_type": "code",
   "execution_count": 6,
   "metadata": {},
   "outputs": [
    {
     "data": {
      "text/plain": [
       "'### Chicken Biryani Recipe\\n\\n#### **Ingredients:**\\n\\n**For the Chicken Marinade:**\\n- 1.5 lbs (700g) chicken, cut into pieces (bone-in pieces recommended)\\n- 1 cup plain yogurt\\n- 2 large onions, thinly sliced\\n- 4 cloves garlic, minced\\n- 1-inch piece ginger, grated\\n- 2-3 green chilies, slit (adjust to taste)\\n- 1 tablespoon red chili powder\\n- 1 teaspoon cumin powder\\n- 1 teaspoon coriander powder\\n- 1/2 teaspoon turmeric powder\\n- 1 tablespoon garam masala\\n- Salt to taste\\n- Juice of 1 lemon\\n- A handful of fresh mint leaves, chopped\\n- A handful of fresh cilantro (coriander leaves), chopped\\n\\n**For the Biryani:**\\n- 2 cups basmati rice\\n- 4 cups water (for boiling rice)\\n- 4 tablespoons ghee (clarified butter) or cooking oil\\n- 1-2 bay leaves\\n- 4-5 whole cloves\\n- 4-5 green cardamom pods\\n- 1-2 cinnamon sticks\\n- 1 star anise (optional)\\n- Saffron strands (optional, soaked in 2 tablespoons warm milk)\\n- Fried onions (for garnish)\\n- Additional mint and cilantro for garnish\\n\\n#### **Instructions:**\\n\\n**1. Marinate the Chicken (Time: 30 mins - 1 hour)**\\n   - In a large bowl, combine yogurt, garlic, ginger, chili powder, cumin, coriander, turmeric, garam masala, salt, lemon juice, mint, and cilantro.\\n   - Add the chicken pieces to the marinade, making sure they are well-coated.\\n   - Cover and let it marinate for at least 30 minutes or up to 1 hour in the refrigerator.\\n\\n**2. Prepare the Rice (Time: 20 mins)**\\n   - Rinse the basmati rice under cold water until the water runs clear to remove excess starch. Soak in water for 30 minutes.\\n   - After soaking, drain the rice.\\n   - In a large pot, bring 4 cups of water to a boil. Add the soaked rice and cook until al dente, about 5-6 minutes.\\n   - Drain the rice and set aside.\\n\\n**3. Cook the Chicken (Time: 15-20 mins)**\\n   - In a heavy-bottomed pot or pressure cooker, heat the ghee or oil over medium heat.\\n   - Add the sliced onions and sauté until golden brown. Reserve some for garnish.\\n   - Add the marinated chicken (without excess marinade) to the pot and cook for about 10-12 minutes, stirring occasionally, until the chicken is well-cooked and the spices are fragrant.\\n\\n**4. Layer the Biryani (Time: 5 mins)**\\n   - Once the chicken is cooked, turn the heat to low. Spread the partially cooked rice evenly over the chicken.\\n   - If using, drizzle saffron milk over the rice for color and flavor.\\n   - Cover the pot with a tight lid. You can seal the edges with dough if desired for better steam retention.\\n   - Cook on low heat for about 20-25 minutes until the rice is fully cooked and has absorbed all flavors (this process is known as ‘dum’ cooking).\\n\\n**5. Serve: (Total Time: 15 mins)**\\n   - Gently fluff the biryani with a fork, mixing the chicken and rice lightly.\\n   - Garnish with fried onions, additional mint, and cilantro.\\n   - Serve hot with raita (yogurt sauce) or salad.\\n\\n### **Total Time: Approximately 1.5 - 2 hours** (including marinating time)\\n\\nEnjoy your delicious homemade Chicken Biryani!'"
      ]
     },
     "execution_count": 6,
     "metadata": {},
     "output_type": "execute_result"
    }
   ],
   "source": [
    "from agents import Agent, Runner\n",
    "\n",
    "recipe_agent = Agent(\n",
    "    name = \"Recipe Agent\",\n",
    "    instructions = \"You are an expert chef. Your job is to provide a recipe for the given dish in detail like the recipe ingredients instructions how to make time in min for making that food.\",\n",
    "    model = \"gpt-4o-mini\"\n",
    ")\n",
    "\n",
    "result = await Runner.run(recipe_agent, \"give me a recipe for chicken biryani\")\n",
    "result.final_output"
   ]
  },
  {
   "cell_type": "code",
   "execution_count": 7,
   "metadata": {},
   "outputs": [
    {
     "data": {
      "text/plain": [
       "Recipe(name='Chicken Biryani', ingredients=['2 cups Basmati rice', '500 grams chicken, cut into pieces', '1 large onion, thinly sliced', '2 tomatoes, chopped', '1/2 cup plain yogurt', '1/4 cup chopped fresh cilantro', '1/4 cup chopped fresh mint', '4 cups water', '3 tablespoons cooking oil or ghee', '2 teaspoons ginger-garlic paste', '1 teaspoon turmeric powder', '2 teaspoons biryani masala', '1 teaspoon cumin seeds', '4-5 green chilies, slit', '3-4 whole cloves', '2-3 green cardamoms', '1 small stick of cinnamon', 'Salt to taste', 'Saffron strands (optional)'], time='60 minutes', instructions=['Rinse the Basmati rice in cold water until the water runs clear. Soak it in water for 30 minutes, then drain.', 'In a large pot, heat oil or ghee over medium heat. Add cumin seeds, cloves, cardamom, and cinnamon stick. Sauté for a minute until fragrant.', 'Add the sliced onions and fry until golden brown.', 'Add the ginger-garlic paste and green chilies. Stir and sauté for 2-3 minutes until raw smell disappears.', 'Add the chicken pieces and sauté for 5-7 minutes until they are browned.', 'Stir in the chopped tomatoes, turmeric powder, biryani masala, and salt. Cook until tomatoes soften and oil separates from the mixture.', 'Add the yogurt, stir well, and let it cook covered for about 10-15 minutes until the chicken is cooked through.', 'In another pot, bring 4 cups of water to a boil. Add in the soaked and drained rice. Cook until the rice is 70% cooked (it should still have a bite to it). Drain the rice.', 'Layer the partially cooked rice over the chicken mixture in the pot. Sprinkle cilantro and mint leaves on top. If using saffron, dissolve it in 2 tablespoons of warm milk or water and drizzle it over the rice.', 'Cover the pot with a tight-fitting lid. Cook on low heat (dum) for about 20 minutes. You can place a heavy pot or tava (griddle) under the pot to avoid direct contact with the flame.', 'Once done, fluff the biryani gently with a fork. Serve hot with raita or salad.'])"
      ]
     },
     "execution_count": 7,
     "metadata": {},
     "output_type": "execute_result"
    }
   ],
   "source": [
    "from pydantic import BaseModel\n",
    "from agents import Agent, Runner\n",
    "\n",
    "class Recipe(BaseModel):\n",
    "    name: str\n",
    "    ingredients: list[str]\n",
    "    time: str\n",
    "    instructions: list[str]\n",
    "    \n",
    "\n",
    "recipe_agent = Agent(\n",
    "    name = \"Recipe Agent\",\n",
    "    instructions = \"You are an expert chef. Your job is to provide a recipe for the given dish in detail like the recipe ingredients instructions how to make time in min for making that food.\",\n",
    "    model = \"gpt-4o-mini\",\n",
    "    output_type = Recipe\n",
    ")\n",
    "\n",
    "result = await Runner.run(recipe_agent, \"give me a recipe for chicken biryani\")\n",
    "result.final_output"
   ]
  },
  {
   "cell_type": "code",
   "execution_count": 19,
   "metadata": {},
   "outputs": [
    {
     "name": "stdout",
     "output_type": "stream",
     "text": [
      "name='Chicken Biryani' ingredients=['2 cups basmati rice', '500 grams chicken, cut into pieces', '1 large onion, thinly sliced', '2 tomatoes, chopped', '1/2 cup plain yogurt', '4 cups water', '4 tablespoons biryani masala', '2 bay leaves', '4 green cardamom pods', '5 cloves', '1 cinnamon stick', '4 tablespoons oil or ghee', 'Salt to taste', 'Fresh cilantro and mint for garnishing', 'Saffron strands (optional)'] instructions='1. Rinse the basmati rice under cold water until the water runs clear. Soak the rice in water for 30 minutes, then drain.  \\n2. In a large pot, heat oil or ghee over medium heat. Add onions and sauté until golden brown.  \\n3. Add the chicken pieces and cook until they turn white.  \\n4. Stir in the chopped tomatoes and cook until soft.  \\n5. Add yogurt and biryani masala, mixing well. Cook until the chicken is tender and the oil separates from the mixture.  \\n6. In another pot, bring 4 cups of water to a boil. Add soaked and drained rice along with bay leaves, cardamom pods, cloves, cinnamon stick, and salt. Cook the rice until about 70% done, then drain.  \\n7. Layer half the partially cooked rice over the chicken mixture in the pot.  \\n8. If using, dissolve saffron in a tablespoon of warm water and drizzle over the rice. Then add the remaining rice on top.  \\n9. Cover the pot with a tight-fitting lid and cook on low heat for 25-30 minutes (this is the ‘dum’ process).  \\n10. Once done, take off the lid and fluff the biryani with a fork. Garnish with fresh cilantro and mint before serving. Enjoy your delicious Chicken Biryani!' cooking_time=60\n"
     ]
    }
   ],
   "source": [
    "# Structured output example\n",
    "from pydantic import BaseModel\n",
    "\n",
    "class Recipe(BaseModel):\n",
    "    name: str\n",
    "    ingredients: list[str]\n",
    "    instructions: str\n",
    "    cooking_time: int\n",
    "    \n",
    "recipe_agent = Agent(\n",
    "    name = \"Recipe Agent\",\n",
    "    instructions = \"You are a recipe generator. Your job is to generate a recipe.\",\n",
    "    model = \"gpt-4o-mini\",\n",
    "    output_type=Recipe\n",
    ")\n",
    "recipe_agent_result = await Runner.run(recipe_agent, \"Generate a recipe for a biryani.\")\n",
    "print(recipe_agent_result.final_output)\n",
    "\n"
   ]
  },
  {
   "cell_type": "markdown",
   "metadata": {},
   "source": [
    "# Function Tool in Agent"
   ]
  },
  {
   "cell_type": "code",
   "execution_count": 9,
   "metadata": {},
   "outputs": [
    {
     "data": {
      "text/plain": [
       "'As of now, the current president of the United States is Joe Biden. He took office on January 20, 2021.'"
      ]
     },
     "execution_count": 9,
     "metadata": {},
     "output_type": "execute_result"
    }
   ],
   "source": [
    "from agents import Agent, Runner, WebSearchTool\n",
    "\n",
    "web_search_tool = WebSearchTool()\n",
    "\n",
    "\n",
    "web_search_agent = Agent(\n",
    "    name = \"Web Search Agent\",\n",
    "    instructions = \"You are an expert web searcher. Your job is to search the relevant information from the web based on user query.\",\n",
    "    model = \"gpt-4o-mini\",\n",
    "    # tools = [web_search_tool]\n",
    ")\n",
    "\n",
    "\n",
    "result = await Runner.run(\n",
    "    web_search_agent,\n",
    "    \"Who is the current president of the United States?\",\n",
    ")\n",
    "\n",
    "result.final_output\n"
   ]
  },
  {
   "cell_type": "code",
   "execution_count": null,
   "metadata": {},
   "outputs": [],
   "source": []
  },
  {
   "cell_type": "code",
   "execution_count": 23,
   "metadata": {},
   "outputs": [
    {
     "name": "stdout",
     "output_type": "stream",
     "text": [
      "The weather in Karachi is sunny, with a current temperature of 70°F.\n"
     ]
    }
   ],
   "source": [
    "from agents import Agent, Runner, function_tool\n",
    "\n",
    "@function_tool\n",
    "def getTemperature(city: str) -> str:\n",
    "    return f\"70 Degree Fahrenheit in {city}\"\n",
    "\n",
    "@function_tool\n",
    "def get_weather(city: str) -> str:\n",
    "    return f\"Sunny in {city}\"\n",
    "\n",
    "\n",
    "weather_agent = Agent(\n",
    "    name = \"Weather Agent\",\n",
    "    instructions = \"You are a weather agent. Your job is to get the weather of a city and temperature.\",\n",
    "    model = \"gpt-4o-mini\",\n",
    "    tools=[getTemperature, get_weather]\n",
    ")\n",
    "weather_agent_result = await Runner.run(weather_agent, \"Get the weather and current temperature of Karachi.\")\n",
    "print(weather_agent_result.final_output)"
   ]
  },
  {
   "cell_type": "markdown",
   "metadata": {},
   "source": [
    "# Handoffs \n",
    "Handoffs allow an agent to delegate tasks to another agent\n",
    "This is particularly useful in scenarios where different agents specialize in distinct areas. For example, a customer support app might have agents that each specifically handle tasks like order status, refunds, FAQs, etc."
   ]
  },
  {
   "cell_type": "code",
   "execution_count": 24,
   "metadata": {},
   "outputs": [
    {
     "name": "stdout",
     "output_type": "stream",
     "text": [
      "# Outline for a Tutorial on Python Lists\n",
      "\n",
      "## I. Introduction\n",
      "   A. What are Lists?\n",
      "   B. Importance of Lists in Python\n",
      "   C. Overview of Tutorial Structure\n",
      "\n",
      "## II. Creating Lists\n",
      "   A. Syntax for List Creation\n",
      "   B. Different Ways to Create Lists\n",
      "      1. Using Square Brackets\n",
      "      2. Using the `list()` Function\n",
      "      3. Creating an Empty List\n",
      "   C. Example: Basic List Creation\n",
      "\n",
      "## III. Accessing List Elements\n",
      "   A. Indexing in Python Lists\n",
      "      1. Positive Indexing\n",
      "      2. Negative Indexing\n",
      "   B. Slicing Lists\n",
      "      1. Basic Slicing\n",
      "      2. Advanced Slicing Techniques\n",
      "   C. Example: Accessing Elements in a List\n",
      "\n",
      "## IV. Modifying Lists\n",
      "   A. Adding Elements\n",
      "      1. Using `append()`\n",
      "      2. Using `insert()`\n",
      "      3. Using `extend()`\n",
      "   B. Removing Elements\n",
      "      1. Using `remove()`\n",
      "      2. Using `pop()`\n",
      "      3. Using `clear()`\n",
      "   C. Example: Modifying List Contents\n",
      "\n",
      "## V. List Methods and Functions\n",
      "   A. Common List Methods\n",
      "      1. `sort()`\n",
      "      2. `reverse()`\n",
      "      3. `count()`\n",
      "      4. `index()`\n",
      "   B. Useful Built-in Functions\n",
      "      1. `len()`\n",
      "      2. `min()` and `max()`\n",
      "      3. `sum()`\n",
      "   C. Example: Using List Methods\n",
      "\n",
      "## VI. List Comprehensions\n",
      "   A. Introduction to List Comprehensions\n",
      "   B. Syntax and Examples\n",
      "   C. Advantages of Using List Comprehensions\n",
      "\n",
      "## VII. Nested Lists\n",
      "   A. What are Nested Lists?\n",
      "   B. Accessing Elements in Nested Lists\n",
      "   C. Example: Working with Nested Lists\n",
      "\n",
      "## VIII. Practical Applications of Lists\n",
      "   A. Use Cases in Data Management\n",
      "   B. Implementing Algorithms with Lists\n",
      "   C. Example: Building a Simple Python Program Using Lists\n",
      "\n",
      "## IX. Summary\n",
      "   A. Recap of Key Points\n",
      "   B. Further Resources for Learning\n",
      "   C. Encouragement to Practice\n",
      "\n",
      "## X. Q&A Section (Optional)\n",
      "   A. Address Common Questions\n",
      "   B. Provide Answers to Frequently Asked Questions\n",
      "\n",
      "## XI. Conclusion\n",
      "   A. Final Thoughts on Python Lists\n",
      "   B. Encouragement to Explore More Python Topics\n"
     ]
    }
   ],
   "source": [
    "from agents import Agent, Runner, function_tool\n",
    "from pydantic import BaseModel\n",
    "\n",
    "class Tutorial(BaseModel):\n",
    "    outline: str\n",
    "    tutorial: str\n",
    "\n",
    "Tutorial_agent = Agent(\n",
    "    name = \"Tutorial Agent\",\n",
    "     handoff_description = \"use for generating tutorials based on given outline and topic\",\n",
    "    instructions = (\"You are a tutorial agent. Your job is to create a tutorial for a given topic.\", \"give detail tutorial on every topic of the outline also add comments explanation and code snippets.\"),\n",
    "    model = \"gpt-4o-mini\",\n",
    "    output_type = Tutorial\n",
    ")\n",
    "\n",
    "\n",
    "outline_agent = Agent(\n",
    "    name = \"Outline Agent\",\n",
    "    instructions = \"You are an outline agent. Your job is to create an outline for a given topic.\",\n",
    "    model = \"gpt-4o-mini\",\n",
    "    handoffs = [Tutorial_agent]\n",
    ")\n",
    "\n",
    "tutorial_response = await Runner.run(outline_agent, \"Create an outline for a tutorial on Python lists.\")\n",
    "print(tutorial_response.final_output)\n"
   ]
  },
  {
   "cell_type": "markdown",
   "metadata": {},
   "source": [
    "# Multi AI Agents using handoffs "
   ]
  },
  {
   "cell_type": "code",
   "execution_count": 32,
   "metadata": {},
   "outputs": [
    {
     "name": "stdout",
     "output_type": "stream",
     "text": [
      "Handing off to history tutor agent\n"
     ]
    },
    {
     "data": {
      "text/plain": [
       "'The first president of the United States was George Washington. He served from April 30, 1789, to March 4, 1797. Washington is often called the \"Father of His Country\" for his pivotal role in leading the nation during the founding years.'"
      ]
     },
     "execution_count": 32,
     "metadata": {},
     "output_type": "execute_result"
    }
   ],
   "source": [
    "from agents import Agent, Runner, function_tool, handoff, RunContextWrapper\n",
    "\n",
    "\n",
    "math_tutor_agent = Agent(\n",
    "    name = \"Math Tutor Agent\",\n",
    "    handoff_description = \"Specialized agent for solving math problems\",\n",
    "    instructions = \"You are a math tutor. Your job is to solve math problems.\",\n",
    "    model = \"gpt-4o-mini\",\n",
    ")\n",
    "\n",
    "def math_tutor_handoff(context: RunContextWrapper[None]):\n",
    "    print('Handing off to math tutor agent')\n",
    "    \n",
    "\n",
    "history_tutor_agent = Agent(\n",
    "    name = \"History Tutor Agent\",\n",
    "    handoff_description = \"Specialized agent for solving history problems\",\n",
    "    instructions = \"You are a history tutor. Your job is to solve history problems.\",\n",
    "    model = \"gpt-4o-mini\",\n",
    ")\n",
    "\n",
    "def history_tutor_handoff(context: RunContextWrapper[None]):\n",
    "    print('Handing off to history tutor agent')\n",
    "\n",
    "\n",
    "multi_agent_team = Agent(\n",
    "    name = \"Multi-Agent Team\",\n",
    "    instructions = \"You are a multi-agent team. Your job is to solve problems using specialized agents.\",\n",
    "    handoffs=[handoff(math_tutor_agent, on_handoff=math_tutor_handoff), handoff(history_tutor_agent, on_handoff=history_tutor_handoff)],\n",
    ")\n",
    "\n",
    "result = await Runner.run(multi_agent_team, \"who is the first president of USA\")\n",
    "result.final_output"
   ]
  },
  {
   "cell_type": "markdown",
   "metadata": {},
   "source": [
    "# Streaming "
   ]
  },
  {
   "cell_type": "markdown",
   "metadata": {},
   "source": [
    "## Raw response events\n",
    "\n",
    "RawResponsesStreamEvent are raw events passed directly from the LLM. They are in OpenAI Responses API format, which means each event has a type (like response.created, response.output_text.delta, etc) and data. These events are useful if you want to stream response messages to the user as soon as they are generated."
   ]
  },
  {
   "cell_type": "code",
   "execution_count": 39,
   "metadata": {},
   "outputs": [
    {
     "name": "stdout",
     "output_type": "stream",
     "text": [
      "Sure! Here are five jokes for you:\n",
      "\n",
      "1. **Why don't scientists trust atoms?**  \n",
      "   Because they make up everything!\n",
      "\n",
      "2. **What do you call fake spaghetti?**  \n",
      "   An impasta!\n",
      "\n",
      "3. **Why did the scarecrow win an award?**  \n",
      "   Because he was outstanding in his field!\n",
      "\n",
      "4. **How do you organize a space party?**  \n",
      "   You planet!\n",
      "\n",
      "5. **Why did the bicycle fall over?**  \n",
      "   Because it was two-tired! \n",
      "\n",
      "Hope these made you smile!"
     ]
    }
   ],
   "source": [
    "import asyncio\n",
    "from openai.types.responses import ResponseTextDeltaEvent\n",
    "from agents import Agent, Runner\n",
    "\n",
    "async def main():\n",
    "    agent = Agent(\n",
    "        name=\"Joker\",\n",
    "        instructions=\"You are a helpful assistant.\",\n",
    "        model=\"gpt-4o-mini\",\n",
    "    )\n",
    "\n",
    "    result = Runner.run_streamed(agent, input=\"Please tell me 5 jokes.\")\n",
    "    async for event in result.stream_events():\n",
    "        if event.type == \"raw_response_event\" and isinstance(event.data, ResponseTextDeltaEvent):\n",
    "            print(event.data.delta, end=\"\", flush=True)\n",
    "\n",
    "# In a Jupyter notebook, use await instead of asyncio.run()\n",
    "await main()"
   ]
  },
  {
   "cell_type": "markdown",
   "metadata": {},
   "source": [
    "# Guardrails \n",
    "\n",
    "Guardrails run in parallel to your agents, enabling you to do checks and validations of user input. For example, imagine you have an agent that uses a very smart (and hence slow/expensive) model to help with customer requests. You wouldn't want malicious users to ask the model to help them with their math homework. So, you can run a guardrail with a fast/cheap model. If the guardrail detects malicious usage, it can immediately raise an error, which stops the expensive model from running and saves you time/money.\n",
    "\n",
    "There are two kinds of guardrails:\n",
    "\n",
    "1. Input guardrails run on the initial user input\n",
    "2. Output guardrails run on the final agent output"
   ]
  },
  {
   "cell_type": "markdown",
   "metadata": {},
   "source": [
    "## Input guardrails\n",
    "\n",
    "Input guardrails run in 3 steps:\n",
    "\n",
    "1. First, the guardrail receives the same input passed to the agent.\n",
    "2. Next, the guardrail function runs to produce a GuardrailFunctionOutput, which is then wrapped in an InputGuardrailResult\n",
    "3. Finally, we check if .tripwire_triggered is true. If true, an InputGuardrailTripwireTriggered exception is raised, so you can appropriately respond to the user or handle the exception."
   ]
  },
  {
   "cell_type": "code",
   "execution_count": null,
   "metadata": {},
   "outputs": [],
   "source": [
    "from pydantic import BaseModel\n",
    "from agents import (\n",
    "    Agent,\n",
    "    GuardrailFunctionOutput,\n",
    "    InputGuardrailTripwireTriggered,\n",
    "    RunContextWrapper,\n",
    "    Runner,\n",
    "    TResponseInputItem,\n",
    "    input_guardrail,\n",
    ")\n",
    "\n",
    "class MathHomeworkOutput(BaseModel):\n",
    "    is_math_homework: bool\n",
    "    reasoning: str\n",
    "\n",
    "# We'll use this agent in our guardrail function.\n",
    "guardrail_agent = Agent( \n",
    "    name=\"Guardrail check\",\n",
    "    instructions=\"Check if the user is asking you to do their customer support related query or out of context.\",\n",
    "    output_type=MathHomeworkOutput,\n",
    ")\n",
    "\n",
    "\n",
    "# This is the guardrail function that receives the agent's input/context, and returns the result.\n",
    "@input_guardrail\n",
    "async def math_guardrail( \n",
    "    ctx: RunContextWrapper[None], agent: Agent, input: str | list[TResponseInputItem]\n",
    ") -> GuardrailFunctionOutput:\n",
    "    result = await Runner.run(guardrail_agent, input, context=ctx.context)\n",
    "\n",
    "    return GuardrailFunctionOutput(\n",
    "        output_info=result.final_output, \n",
    "        tripwire_triggered=result.final_output.is_math_homework,\n",
    "    )\n",
    "\n",
    "\n",
    "agent = Agent(  \n",
    "    name=\"Customer support agent\",\n",
    "    instructions=\"you are only design to answer customer support related queries. if user ask me to do math homework, please refuse.\",\n",
    "    input_guardrails=[math_guardrail],\n",
    ")\n",
    "\n",
    "async def main():\n",
    "    # This should trip the guardrail\n",
    "    try:\n",
    "        result = await Runner.run(agent, \"how to cook biryani\")\n",
    "        print(\"Guardrail didn't trip - this is unexpected\")\n",
    "        print(result.final_output)\n",
    "\n",
    "    except InputGuardrailTripwireTriggered:\n",
    "        print(\"Math homework guardrail tripped\")\n",
    "\n",
    "await main()"
   ]
  },
  {
   "cell_type": "markdown",
   "metadata": {},
   "source": [
    "## Output guardrails\n",
    "\n",
    "Output guardrails run in 3 steps:\n",
    "\n",
    "1. First, the guardrail receives the same input passed to the agent.\n",
    "2. Next, the guardrail function runs to produce a GuardrailFunctionOutput, which is then wrapped in an OutputGuardrailResult\n",
    "3. Finally, we check if .tripwire_triggered is true. If true, an OutputGuardrailTripwireTriggered exception is raised, so you can appropriately respond to the user or handle the exception."
   ]
  },
  {
   "cell_type": "code",
   "execution_count": 52,
   "metadata": {},
   "outputs": [],
   "source": [
    "from pydantic import BaseModel\n",
    "from agents import (\n",
    "    Agent,\n",
    "    GuardrailFunctionOutput,\n",
    "    OutputGuardrailTripwireTriggered,\n",
    "    RunContextWrapper,\n",
    "    Runner,\n",
    "    output_guardrail,\n",
    ")\n",
    "class MessageOutput(BaseModel): \n",
    "    response: str\n",
    "\n",
    "class MathOutput(BaseModel): \n",
    "    reasoning: str\n",
    "    is_math: bool\n",
    "\n",
    "guardrail_agent = Agent(\n",
    "    name=\"Guardrail check\",\n",
    "    instructions=\"Check if the output includes any math.\",\n",
    "    output_type=MathOutput,\n",
    ")\n",
    "\n",
    "@output_guardrail\n",
    "async def math_guardrail(  \n",
    "    ctx: RunContextWrapper, agent: Agent, output: MessageOutput\n",
    ") -> GuardrailFunctionOutput:\n",
    "    result = await Runner.run(guardrail_agent, output.response, context=ctx.context)\n",
    "\n",
    "    return GuardrailFunctionOutput(\n",
    "        output_info=result.final_output,\n",
    "        tripwire_triggered=result.final_output.is_math,\n",
    "    )\n",
    "\n",
    "agent = Agent( \n",
    "    name=\"Customer support agent\",\n",
    "    instructions=\"You are a customer support agent. You help customers with their questions.\",\n",
    "    output_guardrails=[math_guardrail],\n",
    "    output_type=MessageOutput,\n",
    ")\n",
    "\n",
    "async def main():\n",
    "    # This should trip the guardrail\n",
    "    try:\n",
    "        await Runner.run(agent, \"Hello, can you help me solve for x: 2x + 3 = 11?\")\n",
    "        print(\"Guardrail didn't trip - this is unexpected\")\n",
    "\n",
    "    except OutputGuardrailTripwireTriggered:\n",
    "        print(\"Math output guardrail tripped\")"
   ]
  },
  {
   "cell_type": "markdown",
   "metadata": {},
   "source": [
    "# Multi Conversation AI Agent"
   ]
  },
  {
   "cell_type": "code",
   "execution_count": 56,
   "metadata": {},
   "outputs": [
    {
     "name": "stdout",
     "output_type": "stream",
     "text": [
      "You are chatting with Alice, Type 'exit' to end the conversation.\n",
      "Goodbye!\n"
     ]
    }
   ],
   "source": [
    "from agents import Agent, Runner, TResponseInputItem\n",
    "\n",
    "simple_agent = Agent(\n",
    "    name=\"Simple Agent\",\n",
    "    instructions=\"You are a helpful assistant.\",\n",
    "    model=\"gpt-4o-mini\",\n",
    ")\n",
    "\n",
    "conversation_history: list[TResponseInputItem] = []\n",
    "print(\"You are chatting with Alice, Type 'exit' to end the conversation.\")\n",
    "\n",
    "while True:\n",
    "    user_input = input(\"You: \")\n",
    "    if user_input.lower() == \"exit\":\n",
    "        print(\"Goodbye!\")\n",
    "        break\n",
    "    \n",
    "    conversation_history.append({\"role\": \"user\", \"content\": user_input})\n",
    "    print(\"User:\", user_input)\n",
    "    result = await Runner.run(simple_agent, conversation_history)\n",
    "    print(f\"Alice: {result.final_output}\")\n",
    "    conversation_history = result.to_input_list()"
   ]
  },
  {
   "cell_type": "markdown",
   "metadata": {},
   "source": [
    "# Context Management"
   ]
  },
  {
   "cell_type": "code",
   "execution_count": null,
   "metadata": {},
   "outputs": [],
   "source": [
    "import asyncio\n",
    "from dataclasses import dataclass\n",
    "\n",
    "from agents import Agent, RunContextWrapper, Runner, function_tool\n",
    "\n",
    "@dataclass\n",
    "class UserInfo:  \n",
    "    name: str\n",
    "    uid: int\n",
    "\n",
    "@function_tool\n",
    "async def fetch_user_age(wrapper: RunContextWrapper[UserInfo]) -> str:  \n",
    "    return f\"User {wrapper.context.name} is 47 years old\"\n",
    "\n",
    "async def main():\n",
    "    user_info = UserInfo(name=\"John\", uid=123)\n",
    "\n",
    "    agent = Agent[UserInfo](  \n",
    "        name=\"Assistant\",\n",
    "        tools=[fetch_user_age],\n",
    "    )\n",
    "\n",
    "    result = await Runner.run(  \n",
    "        starting_agent=agent,\n",
    "        input=\"What is the age of the user?\",\n",
    "        context=user_info,\n",
    "    )\n",
    "\n",
    "    print(result.final_output)  \n",
    "    # The user John is 47 years old.\n",
    "\n",
    "if __name__ == \"__main__\":\n",
    "    asyncio.run(main())"
   ]
  },
  {
   "cell_type": "markdown",
   "metadata": {},
   "source": [
    "# Agent Visualization"
   ]
  },
  {
   "cell_type": "code",
   "execution_count": 1,
   "metadata": {},
   "outputs": [
    {
     "name": "stdout",
     "output_type": "stream",
     "text": [
      "\n",
      "\u001b[1m[\u001b[0m\u001b[34;49mnotice\u001b[0m\u001b[1;39;49m]\u001b[0m\u001b[39;49m A new release of pip is available: \u001b[0m\u001b[31;49m25.0.1\u001b[0m\u001b[39;49m -> \u001b[0m\u001b[32;49m25.1\u001b[0m\n",
      "\u001b[1m[\u001b[0m\u001b[34;49mnotice\u001b[0m\u001b[1;39;49m]\u001b[0m\u001b[39;49m To update, run: \u001b[0m\u001b[32;49mpip3 install --upgrade pip\u001b[0m\n",
      "Note: you may need to restart the kernel to use updated packages.\n"
     ]
    }
   ],
   "source": [
    "%pip install \"openai-agents[viz]\" -qU"
   ]
  },
  {
   "cell_type": "code",
   "execution_count": null,
   "metadata": {},
   "outputs": [],
   "source": []
  }
 ],
 "metadata": {
  "kernelspec": {
   "display_name": "Python 3",
   "language": "python",
   "name": "python3"
  },
  "language_info": {
   "codemirror_mode": {
    "name": "ipython",
    "version": 3
   },
   "file_extension": ".py",
   "mimetype": "text/x-python",
   "name": "python",
   "nbconvert_exporter": "python",
   "pygments_lexer": "ipython3",
   "version": "3.12.3"
  }
 },
 "nbformat": 4,
 "nbformat_minor": 2
}
