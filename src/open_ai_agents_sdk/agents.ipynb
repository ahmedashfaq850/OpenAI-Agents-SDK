{
 "cells": [
  {
   "cell_type": "code",
   "execution_count": 3,
   "metadata": {},
   "outputs": [],
   "source": [
    "import os\n",
    "from dotenv import load_dotenv"
   ]
  },
  {
   "cell_type": "code",
   "execution_count": 4,
   "metadata": {},
   "outputs": [],
   "source": [
    "load_dotenv()\n",
    "api_key = os.environ.get(\"OPENAI_API_KEY\")\n",
    "\n",
    "if not api_key:\n",
    "    raise ValueError(\"OPENAI_API_KEY environment variable not set.\")"
   ]
  },
  {
   "cell_type": "code",
   "execution_count": 1,
   "metadata": {},
   "outputs": [
    {
     "name": "stdout",
     "output_type": "stream",
     "text": [
      "\n",
      "\u001b[1m[\u001b[0m\u001b[34;49mnotice\u001b[0m\u001b[1;39;49m]\u001b[0m\u001b[39;49m A new release of pip is available: \u001b[0m\u001b[31;49m25.0.1\u001b[0m\u001b[39;49m -> \u001b[0m\u001b[32;49m25.1\u001b[0m\n",
      "\u001b[1m[\u001b[0m\u001b[34;49mnotice\u001b[0m\u001b[1;39;49m]\u001b[0m\u001b[39;49m To update, run: \u001b[0m\u001b[32;49mpip3 install --upgrade pip\u001b[0m\n",
      "Note: you may need to restart the kernel to use updated packages.\n"
     ]
    }
   ],
   "source": [
    "%pip install openai-agents python-dotenv -qU"
   ]
  },
  {
   "cell_type": "markdown",
   "metadata": {},
   "source": [
    "# Basic Agent Creation"
   ]
  },
  {
   "cell_type": "code",
   "execution_count": 7,
   "metadata": {},
   "outputs": [
    {
     "data": {
      "text/plain": [
       "\"I'm here and ready to help! How about you?\""
      ]
     },
     "execution_count": 7,
     "metadata": {},
     "output_type": "execute_result"
    }
   ],
   "source": [
    "# Agent creation \n",
    "from agents import Agent, Runner\n",
    "\n",
    "agent = Agent(\n",
    "    name=\"Basic Agent\",\n",
    "    instructions = \"You are a helpful assistant.\",\n",
    "    model=\"gpt-4o-mini\"\n",
    ")\n",
    "\n",
    "result = await Runner.run(agent, 'Hi, How are you?')\n",
    "result.final_output"
   ]
  },
  {
   "cell_type": "code",
   "execution_count": 11,
   "metadata": {},
   "outputs": [
    {
     "data": {
      "text/plain": [
       "\"Why don't skeletons fight each other? \\n\\nThey don't have the guts!\""
      ]
     },
     "execution_count": 11,
     "metadata": {},
     "output_type": "execute_result"
    }
   ],
   "source": [
    "# Agent 2 example \n",
    "\n",
    "joke_agent = Agent(\n",
    "    name = \"Joke Agent\",\n",
    "    instructions = \"You are a funny assistant. Your jobs is to tell a funny joke.\",\n",
    "    model = \"gpt-4o-mini\"\n",
    ")\n",
    "\n",
    "joke_agent_result = await Runner.run(joke_agent, 'Tell me a joke')\n",
    "joke_agent_result.final_output"
   ]
  },
  {
   "cell_type": "code",
   "execution_count": 15,
   "metadata": {},
   "outputs": [
    {
     "name": "stdout",
     "output_type": "stream",
     "text": [
      "ہڈیاں ایک دوسرے سے کیوں نہیں لڑتیں؟\n",
      "\n",
      "کیونکہ ان میں حوصلہ نہیں ہوتا!\n"
     ]
    }
   ],
   "source": [
    "# Agent 3 example\n",
    "\n",
    "language_translator_agent = Agent(\n",
    "    name = \"Language Translator Agent\",\n",
    "    instructions = \"You are a translator. Your job is to translate given text into urdu.\",\n",
    "    model = \"gpt-4o-mini\"\n",
    ")\n",
    "\n",
    "language_translator_agent_result = await Runner.run(language_translator_agent, f\"translate this joke: {joke_agent_result.final_output} into urdu\")\n",
    "print(language_translator_agent_result.final_output)"
   ]
  },
  {
   "cell_type": "markdown",
   "metadata": {},
   "source": [
    "# Structured output using Pydantic"
   ]
  },
  {
   "cell_type": "code",
   "execution_count": 19,
   "metadata": {},
   "outputs": [
    {
     "name": "stdout",
     "output_type": "stream",
     "text": [
      "name='Chicken Biryani' ingredients=['2 cups basmati rice', '500 grams chicken, cut into pieces', '1 large onion, thinly sliced', '2 tomatoes, chopped', '1/2 cup plain yogurt', '4 cups water', '4 tablespoons biryani masala', '2 bay leaves', '4 green cardamom pods', '5 cloves', '1 cinnamon stick', '4 tablespoons oil or ghee', 'Salt to taste', 'Fresh cilantro and mint for garnishing', 'Saffron strands (optional)'] instructions='1. Rinse the basmati rice under cold water until the water runs clear. Soak the rice in water for 30 minutes, then drain.  \\n2. In a large pot, heat oil or ghee over medium heat. Add onions and sauté until golden brown.  \\n3. Add the chicken pieces and cook until they turn white.  \\n4. Stir in the chopped tomatoes and cook until soft.  \\n5. Add yogurt and biryani masala, mixing well. Cook until the chicken is tender and the oil separates from the mixture.  \\n6. In another pot, bring 4 cups of water to a boil. Add soaked and drained rice along with bay leaves, cardamom pods, cloves, cinnamon stick, and salt. Cook the rice until about 70% done, then drain.  \\n7. Layer half the partially cooked rice over the chicken mixture in the pot.  \\n8. If using, dissolve saffron in a tablespoon of warm water and drizzle over the rice. Then add the remaining rice on top.  \\n9. Cover the pot with a tight-fitting lid and cook on low heat for 25-30 minutes (this is the ‘dum’ process).  \\n10. Once done, take off the lid and fluff the biryani with a fork. Garnish with fresh cilantro and mint before serving. Enjoy your delicious Chicken Biryani!' cooking_time=60\n"
     ]
    }
   ],
   "source": [
    "# Structured output example\n",
    "from pydantic import BaseModel\n",
    "\n",
    "class Recipe(BaseModel):\n",
    "    name: str\n",
    "    ingredients: list[str]\n",
    "    instructions: str\n",
    "    cooking_time: int\n",
    "    \n",
    "recipe_agent = Agent(\n",
    "    name = \"Recipe Agent\",\n",
    "    instructions = \"You are a recipe generator. Your job is to generate a recipe.\",\n",
    "    model = \"gpt-4o-mini\",\n",
    "    output_type=Recipe\n",
    ")\n",
    "recipe_agent_result = await Runner.run(recipe_agent, \"Generate a recipe for a biryani.\")\n",
    "print(recipe_agent_result.final_output)\n",
    "\n"
   ]
  },
  {
   "cell_type": "markdown",
   "metadata": {},
   "source": [
    "# Function Tool in Agent"
   ]
  },
  {
   "cell_type": "code",
   "execution_count": 23,
   "metadata": {},
   "outputs": [
    {
     "name": "stdout",
     "output_type": "stream",
     "text": [
      "The weather in Karachi is sunny, with a current temperature of 70°F.\n"
     ]
    }
   ],
   "source": [
    "from agents import Agent, Runner, function_tool\n",
    "\n",
    "@function_tool\n",
    "def getTemperature(city: str) -> str:\n",
    "    return f\"70 Degree Fahrenheit in {city}\"\n",
    "\n",
    "@function_tool\n",
    "def get_weather(city: str) -> str:\n",
    "    return f\"Sunny in {city}\"\n",
    "\n",
    "\n",
    "weather_agent = Agent(\n",
    "    name = \"Weather Agent\",\n",
    "    instructions = \"You are a weather agent. Your job is to get the weather of a city and temperature.\",\n",
    "    model = \"gpt-4o-mini\",\n",
    "    tools=[getTemperature, get_weather]\n",
    ")\n",
    "weather_agent_result = await Runner.run(weather_agent, \"Get the weather and current temperature of Karachi.\")\n",
    "print(weather_agent_result.final_output)"
   ]
  },
  {
   "cell_type": "markdown",
   "metadata": {},
   "source": [
    "# Handoffs \n",
    "Handoffs allow an agent to delegate tasks to another agent\n",
    "This is particularly useful in scenarios where different agents specialize in distinct areas. For example, a customer support app might have agents that each specifically handle tasks like order status, refunds, FAQs, etc."
   ]
  },
  {
   "cell_type": "code",
   "execution_count": 24,
   "metadata": {},
   "outputs": [
    {
     "name": "stdout",
     "output_type": "stream",
     "text": [
      "# Outline for a Tutorial on Python Lists\n",
      "\n",
      "## I. Introduction\n",
      "   A. What are Lists?\n",
      "   B. Importance of Lists in Python\n",
      "   C. Overview of Tutorial Structure\n",
      "\n",
      "## II. Creating Lists\n",
      "   A. Syntax for List Creation\n",
      "   B. Different Ways to Create Lists\n",
      "      1. Using Square Brackets\n",
      "      2. Using the `list()` Function\n",
      "      3. Creating an Empty List\n",
      "   C. Example: Basic List Creation\n",
      "\n",
      "## III. Accessing List Elements\n",
      "   A. Indexing in Python Lists\n",
      "      1. Positive Indexing\n",
      "      2. Negative Indexing\n",
      "   B. Slicing Lists\n",
      "      1. Basic Slicing\n",
      "      2. Advanced Slicing Techniques\n",
      "   C. Example: Accessing Elements in a List\n",
      "\n",
      "## IV. Modifying Lists\n",
      "   A. Adding Elements\n",
      "      1. Using `append()`\n",
      "      2. Using `insert()`\n",
      "      3. Using `extend()`\n",
      "   B. Removing Elements\n",
      "      1. Using `remove()`\n",
      "      2. Using `pop()`\n",
      "      3. Using `clear()`\n",
      "   C. Example: Modifying List Contents\n",
      "\n",
      "## V. List Methods and Functions\n",
      "   A. Common List Methods\n",
      "      1. `sort()`\n",
      "      2. `reverse()`\n",
      "      3. `count()`\n",
      "      4. `index()`\n",
      "   B. Useful Built-in Functions\n",
      "      1. `len()`\n",
      "      2. `min()` and `max()`\n",
      "      3. `sum()`\n",
      "   C. Example: Using List Methods\n",
      "\n",
      "## VI. List Comprehensions\n",
      "   A. Introduction to List Comprehensions\n",
      "   B. Syntax and Examples\n",
      "   C. Advantages of Using List Comprehensions\n",
      "\n",
      "## VII. Nested Lists\n",
      "   A. What are Nested Lists?\n",
      "   B. Accessing Elements in Nested Lists\n",
      "   C. Example: Working with Nested Lists\n",
      "\n",
      "## VIII. Practical Applications of Lists\n",
      "   A. Use Cases in Data Management\n",
      "   B. Implementing Algorithms with Lists\n",
      "   C. Example: Building a Simple Python Program Using Lists\n",
      "\n",
      "## IX. Summary\n",
      "   A. Recap of Key Points\n",
      "   B. Further Resources for Learning\n",
      "   C. Encouragement to Practice\n",
      "\n",
      "## X. Q&A Section (Optional)\n",
      "   A. Address Common Questions\n",
      "   B. Provide Answers to Frequently Asked Questions\n",
      "\n",
      "## XI. Conclusion\n",
      "   A. Final Thoughts on Python Lists\n",
      "   B. Encouragement to Explore More Python Topics\n"
     ]
    }
   ],
   "source": [
    "from agents import Agent, Runner, function_tool\n",
    "from pydantic import BaseModel\n",
    "\n",
    "class Tutorial(BaseModel):\n",
    "    outline: str\n",
    "    tutorial: str\n",
    "\n",
    "Tutorial_agent = Agent(\n",
    "    name = \"Tutorial Agent\",\n",
    "     handoff_description = \"use for generating tutorials based on given outline and topic\",\n",
    "    instructions = (\"You are a tutorial agent. Your job is to create a tutorial for a given topic.\", \"give detail tutorial on every topic of the outline also add comments explanation and code snippets.\"),\n",
    "    model = \"gpt-4o-mini\",\n",
    "    output_type = Tutorial\n",
    ")\n",
    "\n",
    "\n",
    "outline_agent = Agent(\n",
    "    name = \"Outline Agent\",\n",
    "    instructions = \"You are an outline agent. Your job is to create an outline for a given topic.\",\n",
    "    model = \"gpt-4o-mini\",\n",
    "    handoffs = [Tutorial_agent]\n",
    ")\n",
    "\n",
    "tutorial_response = await Runner.run(outline_agent, \"Create an outline for a tutorial on Python lists.\")\n",
    "print(tutorial_response.final_output)\n"
   ]
  },
  {
   "cell_type": "markdown",
   "metadata": {},
   "source": [
    "# Multi AI Agents using handoffs "
   ]
  },
  {
   "cell_type": "code",
   "execution_count": 32,
   "metadata": {},
   "outputs": [
    {
     "name": "stdout",
     "output_type": "stream",
     "text": [
      "Handing off to history tutor agent\n"
     ]
    },
    {
     "data": {
      "text/plain": [
       "'The first president of the United States was George Washington. He served from April 30, 1789, to March 4, 1797. Washington is often called the \"Father of His Country\" for his pivotal role in leading the nation during the founding years.'"
      ]
     },
     "execution_count": 32,
     "metadata": {},
     "output_type": "execute_result"
    }
   ],
   "source": [
    "from agents import Agent, Runner, function_tool, handoff, RunContextWrapper\n",
    "\n",
    "\n",
    "math_tutor_agent = Agent(\n",
    "    name = \"Math Tutor Agent\",\n",
    "    handoff_description = \"Specialized agent for solving math problems\",\n",
    "    instructions = \"You are a math tutor. Your job is to solve math problems.\",\n",
    "    model = \"gpt-4o-mini\",\n",
    ")\n",
    "\n",
    "def math_tutor_handoff(context: RunContextWrapper[None]):\n",
    "    print('Handing off to math tutor agent')\n",
    "    \n",
    "\n",
    "history_tutor_agent = Agent(\n",
    "    name = \"History Tutor Agent\",\n",
    "    handoff_description = \"Specialized agent for solving history problems\",\n",
    "    instructions = \"You are a history tutor. Your job is to solve history problems.\",\n",
    "    model = \"gpt-4o-mini\",\n",
    ")\n",
    "\n",
    "def history_tutor_handoff(context: RunContextWrapper[None]):\n",
    "    print('Handing off to history tutor agent')\n",
    "\n",
    "\n",
    "multi_agent_team = Agent(\n",
    "    name = \"Multi-Agent Team\",\n",
    "    instructions = \"You are a multi-agent team. Your job is to solve problems using specialized agents.\",\n",
    "    handoffs=[handoff(math_tutor_agent, on_handoff=math_tutor_handoff), handoff(history_tutor_agent, on_handoff=history_tutor_handoff)],\n",
    ")\n",
    "\n",
    "result = await Runner.run(multi_agent_team, \"who is the first president of USA\")\n",
    "result.final_output"
   ]
  },
  {
   "cell_type": "markdown",
   "metadata": {},
   "source": [
    "# Streaming "
   ]
  },
  {
   "cell_type": "markdown",
   "metadata": {},
   "source": [
    "## Raw response events\n",
    "\n",
    "RawResponsesStreamEvent are raw events passed directly from the LLM. They are in OpenAI Responses API format, which means each event has a type (like response.created, response.output_text.delta, etc) and data. These events are useful if you want to stream response messages to the user as soon as they are generated."
   ]
  },
  {
   "cell_type": "code",
   "execution_count": 39,
   "metadata": {},
   "outputs": [
    {
     "name": "stdout",
     "output_type": "stream",
     "text": [
      "Sure! Here are five jokes for you:\n",
      "\n",
      "1. **Why don't scientists trust atoms?**  \n",
      "   Because they make up everything!\n",
      "\n",
      "2. **What do you call fake spaghetti?**  \n",
      "   An impasta!\n",
      "\n",
      "3. **Why did the scarecrow win an award?**  \n",
      "   Because he was outstanding in his field!\n",
      "\n",
      "4. **How do you organize a space party?**  \n",
      "   You planet!\n",
      "\n",
      "5. **Why did the bicycle fall over?**  \n",
      "   Because it was two-tired! \n",
      "\n",
      "Hope these made you smile!"
     ]
    }
   ],
   "source": [
    "import asyncio\n",
    "from openai.types.responses import ResponseTextDeltaEvent\n",
    "from agents import Agent, Runner\n",
    "\n",
    "async def main():\n",
    "    agent = Agent(\n",
    "        name=\"Joker\",\n",
    "        instructions=\"You are a helpful assistant.\",\n",
    "        model=\"gpt-4o-mini\",\n",
    "    )\n",
    "\n",
    "    result = Runner.run_streamed(agent, input=\"Please tell me 5 jokes.\")\n",
    "    async for event in result.stream_events():\n",
    "        if event.type == \"raw_response_event\" and isinstance(event.data, ResponseTextDeltaEvent):\n",
    "            print(event.data.delta, end=\"\", flush=True)\n",
    "\n",
    "# In a Jupyter notebook, use await instead of asyncio.run()\n",
    "await main()"
   ]
  },
  {
   "cell_type": "markdown",
   "metadata": {},
   "source": [
    "# Guardrails \n",
    "\n",
    "Guardrails run in parallel to your agents, enabling you to do checks and validations of user input. For example, imagine you have an agent that uses a very smart (and hence slow/expensive) model to help with customer requests. You wouldn't want malicious users to ask the model to help them with their math homework. So, you can run a guardrail with a fast/cheap model. If the guardrail detects malicious usage, it can immediately raise an error, which stops the expensive model from running and saves you time/money.\n",
    "\n",
    "There are two kinds of guardrails:\n",
    "\n",
    "1. Input guardrails run on the initial user input\n",
    "2. Output guardrails run on the final agent output"
   ]
  },
  {
   "cell_type": "code",
   "execution_count": null,
   "metadata": {},
   "outputs": [],
   "source": []
  }
 ],
 "metadata": {
  "kernelspec": {
   "display_name": "Python 3",
   "language": "python",
   "name": "python3"
  },
  "language_info": {
   "codemirror_mode": {
    "name": "ipython",
    "version": 3
   },
   "file_extension": ".py",
   "mimetype": "text/x-python",
   "name": "python",
   "nbconvert_exporter": "python",
   "pygments_lexer": "ipython3",
   "version": "3.12.3"
  }
 },
 "nbformat": 4,
 "nbformat_minor": 2
}
